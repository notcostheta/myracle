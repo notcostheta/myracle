{
 "cells": [
  {
   "cell_type": "code",
   "execution_count": 1,
   "metadata": {},
   "outputs": [],
   "source": [
    "import json\n",
    "\n",
    "# Read the JSON data from the file\n",
    "with open(\"example_output.json\") as f:\n",
    "    data = json.load(f)"
   ]
  },
  {
   "cell_type": "code",
   "execution_count": 8,
   "metadata": {},
   "outputs": [
    {
     "data": {
      "text/plain": [
       "{'test_cases': [{'name': 'test_search_available_buses',\n",
       "   'description': 'Verify user can search for available buses',\n",
       "   'code': '```python\\ndef test_search_available_buses(self):\\n    \"\"\"Verify user can search for available buses\"\"\"\\n    self.app.enter_source(\\'Mumbai\\')\\n    self.app.enter_destination(\\'Pune\\')\\n    self.app.select_journey_date(\\'Sat, 7 Sep\\')\\n    self.app.tap_search_button()\\n    assert self.app.is_bus_list_displayed(), \\'Bus list should be displayed after search\\'\\n```'},\n",
       "  {'name': 'test_date_selection',\n",
       "   'description': 'Verify date selection functionality',\n",
       "   'code': '```python\\ndef test_date_selection(self):\\n    \"\"\"Verify date selection functionality\"\"\"\\n    self.app.tap_date_field()\\n    assert self.app.is_quick_date_option_visible(\\'TODAY\\'), \\'TODAY option should be visible\\'\\n    assert self.app.is_quick_date_option_visible(\\'TOMORROW\\'), \\'TOMORROW option should be visible\\'\\n    \\n    self.app.select_quick_date_option(\\'TODAY\\')\\n    today_date = self.app.get_selected_date()\\n    assert today_date == self.app.get_current_date(), \\'Selected date should be today\\'\\n\\n    self.app.select_quick_date_option(\\'TOMORROW\\')\\n    tomorrow_date = self.app.get_selected_date()\\n    assert tomorrow_date == self.app.get_tomorrow_date(), \\'Selected date should be tomorrow\\'\\n```'},\n",
       "  {'name': 'test_cab_bus_hire_navigation',\n",
       "   'description': 'Verify cab/bus hire functionality',\n",
       "   'code': '```python\\ndef test_cab_bus_hire_navigation(self):\\n    \"\"\"Verify cab/bus hire functionality\"\"\"\\n    self.app.tap_ryde_option()\\n    assert self.app.is_cab_bus_hire_screen_displayed(), \\'Cab/Bus hire screen should be displayed\\'\\n```'}]}"
      ]
     },
     "execution_count": 8,
     "metadata": {},
     "output_type": "execute_result"
    }
   ],
   "source": [
    "data"
   ]
  },
  {
   "cell_type": "code",
   "execution_count": 10,
   "metadata": {},
   "outputs": [
    {
     "name": "stdout",
     "output_type": "stream",
     "text": [
      "test_search_available_buses\n",
      "Verify user can search for available buses\n",
      "```python\n",
      "def test_search_available_buses(self):\n",
      "    \"\"\"Verify user can search for available buses\"\"\"\n",
      "    self.app.enter_source('Mumbai')\n",
      "    self.app.enter_destination('Pune')\n",
      "    self.app.select_journey_date('Sat, 7 Sep')\n",
      "    self.app.tap_search_button()\n",
      "    assert self.app.is_bus_list_displayed(), 'Bus list should be displayed after search'\n",
      "```\n"
     ]
    }
   ],
   "source": [
    "print(data[\"test_cases\"][0]['name'])\n",
    "print(data[\"test_cases\"][0]['description'])\n",
    "print(data[\"test_cases\"][0]['code'])"
   ]
  },
  {
   "cell_type": "code",
   "execution_count": null,
   "metadata": {},
   "outputs": [],
   "source": []
  }
 ],
 "metadata": {
  "kernelspec": {
   "display_name": ".venv",
   "language": "python",
   "name": "python3"
  },
  "language_info": {
   "codemirror_mode": {
    "name": "ipython",
    "version": 3
   },
   "file_extension": ".py",
   "mimetype": "text/x-python",
   "name": "python",
   "nbconvert_exporter": "python",
   "pygments_lexer": "ipython3",
   "version": "3.10.11"
  }
 },
 "nbformat": 4,
 "nbformat_minor": 2
}
