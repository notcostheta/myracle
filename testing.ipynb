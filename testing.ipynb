{
 "cells": [
  {
   "cell_type": "code",
   "execution_count": 12,
   "metadata": {},
   "outputs": [],
   "source": [
    "import gradio as gr\n",
    "import os\n",
    "from dotenv import load_dotenv\n",
    "from openai import OpenAI\n",
    "import json\n",
    "import logging\n",
    "\n",
    "# Load environment variables\n",
    "load_dotenv(\"config.env\")\n",
    "\n",
    "# Get API Keys from environment variables\n",
    "CLIENT_ID = os.getenv(\"IMGUR_CLIENT_ID\")\n",
    "CLIENT_SECRET = os.getenv(\"IMGUR_CLIENT_SECRET\")\n",
    "OPENROUTER_API_KEY = os.getenv(\"OPENROUTER_API_KEY\")\n",
    "\n",
    "# Imgur API endpoint for image upload\n",
    "IMGUR_UPLOAD_URL = \"https://api.imgur.com/3/image\"\n",
    "\n",
    "# Initialize OpenAI client\n",
    "client = OpenAI(\n",
    "    base_url=\"https://openrouter.ai/api/v1\",\n",
    "    api_key=OPENROUTER_API_KEY,\n",
    ")"
   ]
  },
  {
   "cell_type": "code",
   "execution_count": 13,
   "metadata": {},
   "outputs": [],
   "source": [
    "def generate_description(image_url, user_description):\n",
    "    \"\"\"Generate a description using the OpenAI API.\"\"\"\n",
    "    completion = client.chat.completions.create(\n",
    "        model=\"google/gemini-flash-8b-1.5-exp\",\n",
    "        messages=[\n",
    "            {\n",
    "                \"role\": \"system\",\n",
    "                \"content\": \"\"\"\n",
    "                <system_prompt>\n",
    "                You are a QA automation expert tasked with creating Python test scripts for mobile applications based on screenshots. For each screenshot provided:\n",
    "\n",
    "                1. Analyze the UI elements, features, and functionality visible.\n",
    "                2. Generate a comprehensive set of test cases covering all major functionality.\n",
    "                3. Create a Python script using pytest that implements these test cases.\n",
    "\n",
    "                Your response should be a JSON object with the following structure:\n",
    "                {\n",
    "                \"test_cases\": [\n",
    "                    {\n",
    "                    \"name\": \"Test case name\",\n",
    "                    \"description\": \"Brief description of the test case\",\n",
    "                    \"code\": \"Python code implementing the test case\"\n",
    "                    },\n",
    "                    ...\n",
    "                ]\n",
    "                }\n",
    "\n",
    "                Each test case should:\n",
    "\n",
    "                - Use pytest as the testing framework.\n",
    "                - Assume the existence of a MobileApp class that represents the app under test.\n",
    "                - Include setup and teardown methods as needed.\n",
    "                - Implement the test case as a separate test function.\n",
    "                - Use descriptive function names prefixed with `test_`.\n",
    "                - Include comments explaining the purpose of the test.\n",
    "                - Use assertions to verify expected outcomes.\n",
    "\n",
    "                Focus on user interactions, edge cases, and potential error scenarios. Ensure test cases are specific, actionable, and cover both positive and negative testing scenarios.\n",
    "                </system_prompt>\n",
    "\n",
    "                <example>\n",
    "                {\n",
    "                \"test_cases\": [\n",
    "                    {\n",
    "                    \"name\": \"test_search_available_buses\",\n",
    "                    \"description\": \"Verify user can search for available buses\",\n",
    "                    \"code\": \"```python\\ndef test_search_available_buses(self):\\n    \\\"\\\"\\\"Verify user can search for available buses\\\"\\\"\\\"\\n    self.app.enter_source('Mumbai')\\n    self.app.enter_destination('Pune')\\n    self.app.select_journey_date('Sat, 7 Sep')\\n    self.app.tap_search_button()\\n    assert self.app.is_bus_list_displayed(), 'Bus list should be displayed after search'\\n```\"\n",
    "                    },\n",
    "                    {\n",
    "                    \"name\": \"test_date_selection\",\n",
    "                    \"description\": \"Verify date selection functionality\",\n",
    "                    \"code\": \"```python\\ndef test_date_selection(self):\\n    \\\"\\\"\\\"Verify date selection functionality\\\"\\\"\\\"\\n    self.app.tap_date_field()\\n    assert self.app.is_quick_date_option_visible('TODAY'), 'TODAY option should be visible'\\n    assert self.app.is_quick_date_option_visible('TOMORROW'), 'TOMORROW option should be visible'\\n    \\n    self.app.select_quick_date_option('TODAY')\\n    today_date = self.app.get_selected_date()\\n    assert today_date == self.app.get_current_date(), 'Selected date should be today'\\n\\n    self.app.select_quick_date_option('TOMORROW')\\n    tomorrow_date = self.app.get_selected_date()\\n    assert tomorrow_date == self.app.get_tomorrow_date(), 'Selected date should be tomorrow'\\n```\"\n",
    "                    },\n",
    "                    {\n",
    "                    \"name\": \"test_cab_bus_hire_navigation\",\n",
    "                    \"description\": \"Verify cab/bus hire functionality\",\n",
    "                    \"code\": \"```python\\ndef test_cab_bus_hire_navigation(self):\\n    \\\"\\\"\\\"Verify cab/bus hire functionality\\\"\\\"\\\"\\n    self.app.tap_ryde_option()\\n    assert self.app.is_cab_bus_hire_screen_displayed(), 'Cab/Bus hire screen should be displayed'\\n```\"\n",
    "                    }\n",
    "                ]\n",
    "                }\n",
    "                </example>\n",
    "                \"\"\",\n",
    "            },\n",
    "            {\n",
    "                \"role\": \"user\",\n",
    "                \"content\": [\n",
    "                    {\n",
    "                        \"type\": \"text\",\n",
    "                        \"text\": user_description,\n",
    "                    },\n",
    "                    {\n",
    "                        \"type\": \"image_url\",\n",
    "                        \"image_url\": {\"url\": image_url},\n",
    "                    },\n",
    "                ],\n",
    "            },\n",
    "        ],\n",
    "    )\n",
    "\n",
    "    return completion.choices[0].message.content"
   ]
  },
  {
   "cell_type": "code",
   "execution_count": 14,
   "metadata": {},
   "outputs": [],
   "source": [
    "img_url = \"https://i.imgur.com/Ty9uaej.jpeg\""
   ]
  },
  {
   "cell_type": "code",
   "execution_count": 15,
   "metadata": {},
   "outputs": [],
   "source": [
    "resp = generate_description(img_url, user_description=\"\")"
   ]
  },
  {
   "cell_type": "code",
   "execution_count": 16,
   "metadata": {},
   "outputs": [],
   "source": [
    "stripped = resp.strip(\"```json\").strip(\"```\")"
   ]
  },
  {
   "cell_type": "code",
   "execution_count": 17,
   "metadata": {},
   "outputs": [
    {
     "data": {
      "text/plain": [
       "'\\n{\\n\"test_cases\": [\\n    {\\n        \"name\": \"test_enter_source_destination\",\\n        \"description\": \"Verify user can enter source and destination\",\\n        \"code\": \"```python\\\\nimport pytest\\\\n\\\\nclass TestBusTickets:\\\\n    \\\\n    def test_enter_source_destination(self, MobileApp):\\\\n        \\\\\"\\\\\"\\\\\"Verify user can enter source and destination\\\\\"\\\\\"\\\\\"\\\\n        # Enter source\\\\n        MobileApp.enter_source(\\'Mumbai\\')\\\\n        # Enter destination\\\\n        MobileApp.enter_destination(\\'Pune\\')\\\\n        assert MobileApp.is_source_entered(\\'Mumbai\\') and MobileApp.is_destination_entered(\\'Pune\\'), \\'Source and destination should be entered\\'\\\\n    \\\\n```\"\\n    },\\n    {\\n        \"name\": \"test_select_journey_date\",\\n        \"description\": \"Verify user can select journey date\",\\n        \"code\": \"```python\\\\nimport pytest\\\\n\\\\nclass TestBusTickets:\\\\n    \\\\n    def test_select_journey_date(self, MobileApp):\\\\n        \\\\\"\\\\\"\\\\\"Verify user can select journey date\\\\\"\\\\\"\\\\\"\\\\n        MobileApp.select_journey_date(\\'Sat, 7 Sep\\')\\\\n        assert MobileApp.is_date_selected(\\'Sat, 7 Sep\\'), \\'Date should be selected\\'\\\\n    \\\\n```\"\\n    },\\n    {\\n        \"name\": \"test_search_button_click\",\\n        \"description\": \"Verify search button functionality\",\\n        \"code\": \"```python\\\\nimport pytest\\\\n\\\\nclass TestBusTickets:\\\\n    \\\\n    def test_search_button_click(self, MobileApp):\\\\n        \\\\\"\\\\\"\\\\\"Verify search button functionality\\\\\"\\\\\"\\\\\"\\\\n        MobileApp.enter_source(\\'Mumbai\\')\\\\n        MobileApp.enter_destination(\\'Pune\\')\\\\n        MobileApp.select_journey_date(\\'Sat, 7 Sep\\')\\\\n        MobileApp.tap_search_button()\\\\n        assert MobileApp.is_bus_list_displayed(), \\'Bus list should be displayed after search\\'\\\\n    \\\\n```\"\\n    },\\n    {\\n        \"name\": \"test_cab_bus_hire_navigation\",\\n        \"description\": \"Verify cab/bus hire functionality\",\\n        \"code\": \"```python\\\\nimport pytest\\\\n\\\\nclass TestBusTickets:\\\\n    \\\\n    def test_cab_bus_hire_navigation(self, MobileApp):\\\\n        \\\\\"\\\\\"\\\\\"Verify cab/bus hire functionality\\\\\"\\\\\"\\\\\"\\\\n        MobileApp.tap_ryde_option()\\\\n        assert MobileApp.is_cab_bus_hire_screen_displayed(), \\'Cab/Bus hire screen should be displayed\\'\\\\n    \\\\n```\"\\n    },\\n    {\\n        \"name\": \"test_offers_view_all\",\\n        \"description\": \"Verify view all functionality in offers section\",\\n        \"code\": \"```python\\\\nimport pytest\\\\n\\\\nclass TestBusTickets:\\\\n    \\\\n    def test_offers_view_all(self, MobileApp):\\\\n        \\\\\"\\\\\"\\\\\"Verify view all functionality in offers section\\\\\"\\\\\"\\\\\"\\\\n        MobileApp.tap_view_all_offers()\\\\n        assert MobileApp.is_offers_list_displayed(), \\'Offers list should be displayed after tapping view all\\'\\\\n    \\\\n```\"\\n    },\\n    {\\n        \"name\": \"test_navigation_home\",\\n        \"description\": \"Verify navigation to the home screen\",\\n        \"code\": \"```python\\\\nimport pytest\\\\n\\\\nclass TestBusTickets:\\\\n    \\\\n    def test_navigation_home(self, MobileApp):\\\\n        \\\\\"\\\\\"\\\\\"Verify navigation to the home screen\\\\\"\\\\\"\\\\\"\\\\n        MobileApp.tap_home_button()\\\\n        assert MobileApp.is_home_screen_displayed(), \\'Home screen should be displayed\\'\\\\n    \\\\n```\"\\n    },\\n    {\\n        \"name\": \"test_navigation_my_bookings\",\\n        \"description\": \"Verify navigation to the my bookings screen\",\\n        \"code\": \"```python\\\\nimport pytest\\\\n\\\\nclass TestBusTickets:\\\\n    \\\\n    def test_navigation_my_bookings(self, MobileApp):\\\\n        \\\\\"\\\\\"\\\\\"Verify navigation to the my bookings screen\\\\\"\\\\\"\\\\\"\\\\n        MobileApp.tap_my_bookings_button()\\\\n        assert MobileApp.is_my_bookings_screen_displayed(), \\'My bookings screen should be displayed\\'\\\\n    \\\\n```\"\\n    },\\n    {\\n        \"name\": \"test_navigation_help\",\\n        \"description\": \"Verify navigation to the help screen\",\\n        \"code\": \"```python\\\\nimport pytest\\\\n\\\\nclass TestBusTickets:\\\\n    \\\\n    def test_navigation_help(self, MobileApp):\\\\n        \\\\\"\\\\\"\\\\\"Verify navigation to the help screen\\\\\"\\\\\"\\\\\"\\\\n        MobileApp.tap_help_button()\\\\n        assert MobileApp.is_help_screen_displayed(), \\'Help screen should be displayed\\'\\\\n    \\\\n```\"\\n    },\\n    {\\n        \"name\": \"test_navigation_my_account\",\\n        \"description\": \"Verify navigation to the my account screen\",\\n        \"code\": \"```python\\\\nimport pytest\\\\n\\\\nclass TestBusTickets:\\\\n    \\\\n    def test_navigation_my_account(self, MobileApp):\\\\n        \\\\\"\\\\\"\\\\\"Verify navigation to the my account screen\\\\\"\\\\\"\\\\\"\\\\n        MobileApp.tap_my_account_button()\\\\n        assert MobileApp.is_my_account_screen_displayed(), \\'My account screen should be displayed\\'\\\\n    \\\\n```\"\\n    },\\n    {\\n        \"name\": \"test_date_selection_today\",\\n        \"description\": \"Verify date selection functionality with TODAY option\",\\n        \"code\": \"```python\\\\nimport pytest\\\\n\\\\nclass TestBusTickets:\\\\n    \\\\n    def test_date_selection_today(self, MobileApp):\\\\n        \\\\\"\\\\\"\\\\\"Verify date selection functionality with TODAY option\\\\\"\\\\\"\\\\\"\\\\n        MobileApp.tap_date_field()\\\\n        assert MobileApp.is_quick_date_option_visible(\\'TODAY\\'), \\'TODAY option should be visible\\'\\\\n        MobileApp.select_quick_date_option(\\'TODAY\\')\\\\n        today_date = MobileApp.get_selected_date()\\\\n        assert today_date == MobileApp.get_current_date(), \\'Selected date should be today\\'\\\\n    \\\\n```\"\\n    },\\n    {\\n        \"name\": \"test_date_selection_tomorrow\",\\n        \"description\": \"Verify date selection functionality with TOMORROW option\",\\n        \"code\": \"```python\\\\nimport pytest\\\\n\\\\nclass TestBusTickets:\\\\n    \\\\n    def test_date_selection_tomorrow(self, MobileApp):\\\\n        \\\\\"\\\\\"\\\\\"Verify date selection functionality with TOMORROW option\\\\\"\\\\\"\\\\\"\\\\n        MobileApp.tap_date_field()\\\\n        assert MobileApp.is_quick_date_option_visible(\\'TOMORROW\\'), \\'TOMORROW option should be visible\\'\\\\n        MobileApp.select_quick_date_option(\\'TOMORROW\\')\\\\n        tomorrow_date = MobileApp.get_selected_date()\\\\n        assert tomorrow_date == MobileApp.get_tomorrow_date(), \\'Selected date should be tomorrow\\'\\\\n    \\\\n```\"\\n    }\\n]\\n}\\n'"
      ]
     },
     "execution_count": 17,
     "metadata": {},
     "output_type": "execute_result"
    }
   ],
   "source": [
    "stripped"
   ]
  },
  {
   "cell_type": "code",
   "execution_count": 24,
   "metadata": {},
   "outputs": [],
   "source": [
    "json_resp = json.loads(stripped)"
   ]
  },
  {
   "cell_type": "code",
   "execution_count": 25,
   "metadata": {},
   "outputs": [
    {
     "data": {
      "text/plain": [
       "{'test_cases': [{'name': 'test_enter_source_destination',\n",
       "   'description': 'Verify user can enter source and destination',\n",
       "   'code': '```python\\nimport pytest\\n\\nclass TestBusTickets:\\n    \\n    def test_enter_source_destination(self, MobileApp):\\n        \"\"\"Verify user can enter source and destination\"\"\"\\n        # Enter source\\n        MobileApp.enter_source(\\'Mumbai\\')\\n        # Enter destination\\n        MobileApp.enter_destination(\\'Pune\\')\\n        assert MobileApp.is_source_entered(\\'Mumbai\\') and MobileApp.is_destination_entered(\\'Pune\\'), \\'Source and destination should be entered\\'\\n    \\n```'},\n",
       "  {'name': 'test_select_journey_date',\n",
       "   'description': 'Verify user can select journey date',\n",
       "   'code': '```python\\nimport pytest\\n\\nclass TestBusTickets:\\n    \\n    def test_select_journey_date(self, MobileApp):\\n        \"\"\"Verify user can select journey date\"\"\"\\n        MobileApp.select_journey_date(\\'Sat, 7 Sep\\')\\n        assert MobileApp.is_date_selected(\\'Sat, 7 Sep\\'), \\'Date should be selected\\'\\n    \\n```'},\n",
       "  {'name': 'test_search_button_click',\n",
       "   'description': 'Verify search button functionality',\n",
       "   'code': '```python\\nimport pytest\\n\\nclass TestBusTickets:\\n    \\n    def test_search_button_click(self, MobileApp):\\n        \"\"\"Verify search button functionality\"\"\"\\n        MobileApp.enter_source(\\'Mumbai\\')\\n        MobileApp.enter_destination(\\'Pune\\')\\n        MobileApp.select_journey_date(\\'Sat, 7 Sep\\')\\n        MobileApp.tap_search_button()\\n        assert MobileApp.is_bus_list_displayed(), \\'Bus list should be displayed after search\\'\\n    \\n```'},\n",
       "  {'name': 'test_cab_bus_hire_navigation',\n",
       "   'description': 'Verify cab/bus hire functionality',\n",
       "   'code': '```python\\nimport pytest\\n\\nclass TestBusTickets:\\n    \\n    def test_cab_bus_hire_navigation(self, MobileApp):\\n        \"\"\"Verify cab/bus hire functionality\"\"\"\\n        MobileApp.tap_ryde_option()\\n        assert MobileApp.is_cab_bus_hire_screen_displayed(), \\'Cab/Bus hire screen should be displayed\\'\\n    \\n```'},\n",
       "  {'name': 'test_offers_view_all',\n",
       "   'description': 'Verify view all functionality in offers section',\n",
       "   'code': '```python\\nimport pytest\\n\\nclass TestBusTickets:\\n    \\n    def test_offers_view_all(self, MobileApp):\\n        \"\"\"Verify view all functionality in offers section\"\"\"\\n        MobileApp.tap_view_all_offers()\\n        assert MobileApp.is_offers_list_displayed(), \\'Offers list should be displayed after tapping view all\\'\\n    \\n```'},\n",
       "  {'name': 'test_navigation_home',\n",
       "   'description': 'Verify navigation to the home screen',\n",
       "   'code': '```python\\nimport pytest\\n\\nclass TestBusTickets:\\n    \\n    def test_navigation_home(self, MobileApp):\\n        \"\"\"Verify navigation to the home screen\"\"\"\\n        MobileApp.tap_home_button()\\n        assert MobileApp.is_home_screen_displayed(), \\'Home screen should be displayed\\'\\n    \\n```'},\n",
       "  {'name': 'test_navigation_my_bookings',\n",
       "   'description': 'Verify navigation to the my bookings screen',\n",
       "   'code': '```python\\nimport pytest\\n\\nclass TestBusTickets:\\n    \\n    def test_navigation_my_bookings(self, MobileApp):\\n        \"\"\"Verify navigation to the my bookings screen\"\"\"\\n        MobileApp.tap_my_bookings_button()\\n        assert MobileApp.is_my_bookings_screen_displayed(), \\'My bookings screen should be displayed\\'\\n    \\n```'},\n",
       "  {'name': 'test_navigation_help',\n",
       "   'description': 'Verify navigation to the help screen',\n",
       "   'code': '```python\\nimport pytest\\n\\nclass TestBusTickets:\\n    \\n    def test_navigation_help(self, MobileApp):\\n        \"\"\"Verify navigation to the help screen\"\"\"\\n        MobileApp.tap_help_button()\\n        assert MobileApp.is_help_screen_displayed(), \\'Help screen should be displayed\\'\\n    \\n```'},\n",
       "  {'name': 'test_navigation_my_account',\n",
       "   'description': 'Verify navigation to the my account screen',\n",
       "   'code': '```python\\nimport pytest\\n\\nclass TestBusTickets:\\n    \\n    def test_navigation_my_account(self, MobileApp):\\n        \"\"\"Verify navigation to the my account screen\"\"\"\\n        MobileApp.tap_my_account_button()\\n        assert MobileApp.is_my_account_screen_displayed(), \\'My account screen should be displayed\\'\\n    \\n```'},\n",
       "  {'name': 'test_date_selection_today',\n",
       "   'description': 'Verify date selection functionality with TODAY option',\n",
       "   'code': '```python\\nimport pytest\\n\\nclass TestBusTickets:\\n    \\n    def test_date_selection_today(self, MobileApp):\\n        \"\"\"Verify date selection functionality with TODAY option\"\"\"\\n        MobileApp.tap_date_field()\\n        assert MobileApp.is_quick_date_option_visible(\\'TODAY\\'), \\'TODAY option should be visible\\'\\n        MobileApp.select_quick_date_option(\\'TODAY\\')\\n        today_date = MobileApp.get_selected_date()\\n        assert today_date == MobileApp.get_current_date(), \\'Selected date should be today\\'\\n    \\n```'},\n",
       "  {'name': 'test_date_selection_tomorrow',\n",
       "   'description': 'Verify date selection functionality with TOMORROW option',\n",
       "   'code': '```python\\nimport pytest\\n\\nclass TestBusTickets:\\n    \\n    def test_date_selection_tomorrow(self, MobileApp):\\n        \"\"\"Verify date selection functionality with TOMORROW option\"\"\"\\n        MobileApp.tap_date_field()\\n        assert MobileApp.is_quick_date_option_visible(\\'TOMORROW\\'), \\'TOMORROW option should be visible\\'\\n        MobileApp.select_quick_date_option(\\'TOMORROW\\')\\n        tomorrow_date = MobileApp.get_selected_date()\\n        assert tomorrow_date == MobileApp.get_tomorrow_date(), \\'Selected date should be tomorrow\\'\\n    \\n```'}]}"
      ]
     },
     "execution_count": 25,
     "metadata": {},
     "output_type": "execute_result"
    }
   ],
   "source": [
    "json_resp"
   ]
  },
  {
   "cell_type": "code",
   "execution_count": 20,
   "metadata": {},
   "outputs": [
    {
     "data": {
      "text/plain": [
       "'https://i.imgur.com/Ty9uaej.jpeg'"
      ]
     },
     "execution_count": 20,
     "metadata": {},
     "output_type": "execute_result"
    }
   ],
   "source": [
    "img_url"
   ]
  },
  {
   "cell_type": "code",
   "execution_count": 21,
   "metadata": {},
   "outputs": [],
   "source": [
    "# add image url to the json response\n",
    "json_resp[\"image_url\"] = img_url"
   ]
  },
  {
   "cell_type": "code",
   "execution_count": 26,
   "metadata": {},
   "outputs": [],
   "source": [
    "# Prepend the image url to the json response\n",
    "json_resp = {\"image_url\": img_url, **json_resp}"
   ]
  },
  {
   "cell_type": "code",
   "execution_count": 27,
   "metadata": {},
   "outputs": [
    {
     "data": {
      "text/plain": [
       "{'image_url': 'https://i.imgur.com/Ty9uaej.jpeg',\n",
       " 'test_cases': [{'name': 'test_enter_source_destination',\n",
       "   'description': 'Verify user can enter source and destination',\n",
       "   'code': '```python\\nimport pytest\\n\\nclass TestBusTickets:\\n    \\n    def test_enter_source_destination(self, MobileApp):\\n        \"\"\"Verify user can enter source and destination\"\"\"\\n        # Enter source\\n        MobileApp.enter_source(\\'Mumbai\\')\\n        # Enter destination\\n        MobileApp.enter_destination(\\'Pune\\')\\n        assert MobileApp.is_source_entered(\\'Mumbai\\') and MobileApp.is_destination_entered(\\'Pune\\'), \\'Source and destination should be entered\\'\\n    \\n```'},\n",
       "  {'name': 'test_select_journey_date',\n",
       "   'description': 'Verify user can select journey date',\n",
       "   'code': '```python\\nimport pytest\\n\\nclass TestBusTickets:\\n    \\n    def test_select_journey_date(self, MobileApp):\\n        \"\"\"Verify user can select journey date\"\"\"\\n        MobileApp.select_journey_date(\\'Sat, 7 Sep\\')\\n        assert MobileApp.is_date_selected(\\'Sat, 7 Sep\\'), \\'Date should be selected\\'\\n    \\n```'},\n",
       "  {'name': 'test_search_button_click',\n",
       "   'description': 'Verify search button functionality',\n",
       "   'code': '```python\\nimport pytest\\n\\nclass TestBusTickets:\\n    \\n    def test_search_button_click(self, MobileApp):\\n        \"\"\"Verify search button functionality\"\"\"\\n        MobileApp.enter_source(\\'Mumbai\\')\\n        MobileApp.enter_destination(\\'Pune\\')\\n        MobileApp.select_journey_date(\\'Sat, 7 Sep\\')\\n        MobileApp.tap_search_button()\\n        assert MobileApp.is_bus_list_displayed(), \\'Bus list should be displayed after search\\'\\n    \\n```'},\n",
       "  {'name': 'test_cab_bus_hire_navigation',\n",
       "   'description': 'Verify cab/bus hire functionality',\n",
       "   'code': '```python\\nimport pytest\\n\\nclass TestBusTickets:\\n    \\n    def test_cab_bus_hire_navigation(self, MobileApp):\\n        \"\"\"Verify cab/bus hire functionality\"\"\"\\n        MobileApp.tap_ryde_option()\\n        assert MobileApp.is_cab_bus_hire_screen_displayed(), \\'Cab/Bus hire screen should be displayed\\'\\n    \\n```'},\n",
       "  {'name': 'test_offers_view_all',\n",
       "   'description': 'Verify view all functionality in offers section',\n",
       "   'code': '```python\\nimport pytest\\n\\nclass TestBusTickets:\\n    \\n    def test_offers_view_all(self, MobileApp):\\n        \"\"\"Verify view all functionality in offers section\"\"\"\\n        MobileApp.tap_view_all_offers()\\n        assert MobileApp.is_offers_list_displayed(), \\'Offers list should be displayed after tapping view all\\'\\n    \\n```'},\n",
       "  {'name': 'test_navigation_home',\n",
       "   'description': 'Verify navigation to the home screen',\n",
       "   'code': '```python\\nimport pytest\\n\\nclass TestBusTickets:\\n    \\n    def test_navigation_home(self, MobileApp):\\n        \"\"\"Verify navigation to the home screen\"\"\"\\n        MobileApp.tap_home_button()\\n        assert MobileApp.is_home_screen_displayed(), \\'Home screen should be displayed\\'\\n    \\n```'},\n",
       "  {'name': 'test_navigation_my_bookings',\n",
       "   'description': 'Verify navigation to the my bookings screen',\n",
       "   'code': '```python\\nimport pytest\\n\\nclass TestBusTickets:\\n    \\n    def test_navigation_my_bookings(self, MobileApp):\\n        \"\"\"Verify navigation to the my bookings screen\"\"\"\\n        MobileApp.tap_my_bookings_button()\\n        assert MobileApp.is_my_bookings_screen_displayed(), \\'My bookings screen should be displayed\\'\\n    \\n```'},\n",
       "  {'name': 'test_navigation_help',\n",
       "   'description': 'Verify navigation to the help screen',\n",
       "   'code': '```python\\nimport pytest\\n\\nclass TestBusTickets:\\n    \\n    def test_navigation_help(self, MobileApp):\\n        \"\"\"Verify navigation to the help screen\"\"\"\\n        MobileApp.tap_help_button()\\n        assert MobileApp.is_help_screen_displayed(), \\'Help screen should be displayed\\'\\n    \\n```'},\n",
       "  {'name': 'test_navigation_my_account',\n",
       "   'description': 'Verify navigation to the my account screen',\n",
       "   'code': '```python\\nimport pytest\\n\\nclass TestBusTickets:\\n    \\n    def test_navigation_my_account(self, MobileApp):\\n        \"\"\"Verify navigation to the my account screen\"\"\"\\n        MobileApp.tap_my_account_button()\\n        assert MobileApp.is_my_account_screen_displayed(), \\'My account screen should be displayed\\'\\n    \\n```'},\n",
       "  {'name': 'test_date_selection_today',\n",
       "   'description': 'Verify date selection functionality with TODAY option',\n",
       "   'code': '```python\\nimport pytest\\n\\nclass TestBusTickets:\\n    \\n    def test_date_selection_today(self, MobileApp):\\n        \"\"\"Verify date selection functionality with TODAY option\"\"\"\\n        MobileApp.tap_date_field()\\n        assert MobileApp.is_quick_date_option_visible(\\'TODAY\\'), \\'TODAY option should be visible\\'\\n        MobileApp.select_quick_date_option(\\'TODAY\\')\\n        today_date = MobileApp.get_selected_date()\\n        assert today_date == MobileApp.get_current_date(), \\'Selected date should be today\\'\\n    \\n```'},\n",
       "  {'name': 'test_date_selection_tomorrow',\n",
       "   'description': 'Verify date selection functionality with TOMORROW option',\n",
       "   'code': '```python\\nimport pytest\\n\\nclass TestBusTickets:\\n    \\n    def test_date_selection_tomorrow(self, MobileApp):\\n        \"\"\"Verify date selection functionality with TOMORROW option\"\"\"\\n        MobileApp.tap_date_field()\\n        assert MobileApp.is_quick_date_option_visible(\\'TOMORROW\\'), \\'TOMORROW option should be visible\\'\\n        MobileApp.select_quick_date_option(\\'TOMORROW\\')\\n        tomorrow_date = MobileApp.get_selected_date()\\n        assert tomorrow_date == MobileApp.get_tomorrow_date(), \\'Selected date should be tomorrow\\'\\n    \\n```'}]}"
      ]
     },
     "execution_count": 27,
     "metadata": {},
     "output_type": "execute_result"
    }
   ],
   "source": [
    "json_resp"
   ]
  },
  {
   "cell_type": "code",
   "execution_count": 36,
   "metadata": {},
   "outputs": [
    {
     "data": {
      "text/plain": [
       "11"
      ]
     },
     "execution_count": 36,
     "metadata": {},
     "output_type": "execute_result"
    }
   ],
   "source": [
    "json_resp"
   ]
  }
 ],
 "metadata": {
  "kernelspec": {
   "display_name": ".venv",
   "language": "python",
   "name": "python3"
  },
  "language_info": {
   "codemirror_mode": {
    "name": "ipython",
    "version": 3
   },
   "file_extension": ".py",
   "mimetype": "text/x-python",
   "name": "python",
   "nbconvert_exporter": "python",
   "pygments_lexer": "ipython3",
   "version": "3.10.11"
  }
 },
 "nbformat": 4,
 "nbformat_minor": 2
}
